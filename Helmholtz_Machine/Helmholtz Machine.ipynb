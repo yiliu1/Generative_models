{
 "cells": [
  {
   "cell_type": "markdown",
   "metadata": {},
   "source": [
    "# Import Libraries "
   ]
  },
  {
   "cell_type": "code",
   "execution_count": 9,
   "metadata": {
    "collapsed": true
   },
   "outputs": [],
   "source": [
    "%matplotlib inline"
   ]
  },
  {
   "cell_type": "code",
   "execution_count": null,
   "metadata": {
    "collapsed": true
   },
   "outputs": [],
   "source": [
    "\"\"\"\n",
    "One layer Binary Helmholtz Machine\n",
    "==================================\n",
    "\"\"\"\n",
    "import numpy as np\n",
    "import matplotlib.pyplot as plt\n",
    "import matplotlib.gridspec as gridspec\n",
    "import os\n",
    "from tensorflow.examples.tutorials.mnist import input_data\n",
    "\n",
    "\n",
    "if not os.path.exists('out/'):\n",
    "    os.makedirs('out/')\n",
    "\n",
    "mnist = input_data.read_data_sets('../../MNIST_data', one_hot=True)\n",
    "X_dim = mnist.train.images.shape[1]\n",
    "y_dim = mnist.train.labels.shape[1]"
   ]
  },
  {
   "cell_type": "code",
   "execution_count": 11,
   "metadata": {},
   "outputs": [
    {
     "data": {
      "image/png": "[encoded data removed]",
      "text/plain": [
       "<matplotlib.figure.Figure at 0x1f27704470>"
      ]
     },
     "metadata": {},
     "output_type": "display_data"
    },
    {
     "data": {
      "image/png": "[encoded data removed]",
      "text/plain": [
       "<matplotlib.figure.Figure at 0x1f27b71b38>"
      ]
     },
     "metadata": {},
     "output_type": "display_data"
    }
   ],
   "source": [
    "mb_size = 16\n",
    "h_dim = 36\n",
    "\n",
    "# Recognition/inference weight\n",
    "R = np.random.randn(X_dim, h_dim) * 0.001\n",
    "# Generative weight\n",
    "W = np.random.randn(h_dim, X_dim) * 0.001\n",
    "# Generative bias of hidden variables\n",
    "B = np.random.randn(h_dim) * 0.001\n",
    "\n",
    "\n",
    "def sigm(x):\n",
    "    return 1/(1 + np.exp(-x))\n",
    "\n",
    "\n",
    "def infer(X):\n",
    "    # mb_size x x_dim -> mb_size x h_dim\n",
    "    return sigm(X @ R)\n",
    "\n",
    "\n",
    "def generate(H):\n",
    "    # mb_size x h_dim -> mb_size x x_dim\n",
    "    return sigm(H @ W)\n",
    "\n",
    "\n",
    "# Wake-Sleep Algorithm\n",
    "# --------------------\n",
    "alpha = 0.1\n",
    "\n",
    "for t in range(1, 1001):\n",
    "    # ----------\n",
    "    # Wake phase\n",
    "    # ----------\n",
    "\n",
    "    # Upward pass\n",
    "    X_mb = (mnist.train.next_batch(mb_size)[0] > 0.5).astype(np.float)\n",
    "    H = np.random.binomial(n=1, p=infer(X_mb))\n",
    "\n",
    "    # Downward pass\n",
    "    H_prime = sigm(B)\n",
    "    V = generate(H)\n",
    "\n",
    "    # Compute gradient\n",
    "    dB = H - H_prime\n",
    "    dW = np.array([np.outer(H[i], X_mb[i] - V[i]) for i in range(mb_size)])\n",
    "\n",
    "    # Update generative weight\n",
    "    B += (alpha/t) * np.mean(dB, axis=0)\n",
    "    W += (alpha/t) * np.mean(dW, axis=0)\n",
    "\n",
    "    # -----------\n",
    "    # Sleep phase\n",
    "    # -----------\n",
    "\n",
    "    # Downward pass\n",
    "    H_mb = np.random.binomial(n=1, p=sigm(B))\n",
    "    V = np.random.binomial(n=1, p=generate(H_mb))\n",
    "\n",
    "    # Upward pass\n",
    "    H = infer(V)\n",
    "\n",
    "    # Compute gradient\n",
    "    dR = np.array([np.outer(V, H_mb[i] - H[i]) for i in range(mb_size)])\n",
    "\n",
    "    # Update recognition weight\n",
    "    R += (alpha/t) * np.mean(dR, axis=0)\n",
    "\n",
    "\n",
    "# Visualization\n",
    "# -------------\n",
    "\n",
    "def plot(samples, size, name):\n",
    "    size = int(size)\n",
    "    fig = plt.figure(figsize=(4, 4))\n",
    "    gs = gridspec.GridSpec(4, 4)\n",
    "    gs.update(wspace=0.05, hspace=0.05)\n",
    "\n",
    "    for i, sample in enumerate(samples):\n",
    "        ax = plt.subplot(gs[i])\n",
    "        plt.axis('off')\n",
    "        ax.set_xticklabels([])\n",
    "        ax.set_yticklabels([])\n",
    "        ax.set_aspect('equal')\n",
    "        plt.imshow(sample.reshape(size, size), cmap='Greys_r')\n",
    "\n",
    "    plt.savefig('out/{}.png'.format(name), bbox_inches='tight')\n",
    "   # plt.close(fig)\n",
    "\n",
    "\n",
    "X = (mnist.test.next_batch(mb_size)[0] > 0.5).astype(np.float)\n",
    "\n",
    "H = np.random.binomial(n=1, p=infer(X))\n",
    "plot(H, np.sqrt(h_dim), 'H')\n",
    "\n",
    "X_recon = np.random.binomial(n=1, p=generate(H))\n",
    "plot(X_recon, np.sqrt(X_dim), 'V')"
   ]
  }
 ],
 "metadata": {
  "kernelspec": {
   "display_name": "Python 3",
   "language": "python",
   "name": "python3"
  },
  "language_info": {
   "codemirror_mode": {
    "name": "ipython",
    "version": 3
   },
   "file_extension": ".py",
   "mimetype": "text/x-python",
   "name": "python",
   "nbconvert_exporter": "python",
   "pygments_lexer": "ipython3",
   "version": "3.6.3"
  }
 },
 "nbformat": 4,
 "nbformat_minor": 2
}
